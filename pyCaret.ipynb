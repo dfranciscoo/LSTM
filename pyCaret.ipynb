{
  "nbformat": 4,
  "nbformat_minor": 0,
  "metadata": {
    "colab": {
      "provenance": []
    },
    "kernelspec": {
      "name": "python3",
      "display_name": "Python 3"
    },
    "language_info": {
      "name": "python"
    }
  },
  "cells": [
    {
      "cell_type": "code",
      "execution_count": null,
      "metadata": {
        "id": "kX3r711yvmVR"
      },
      "outputs": [],
      "source": [
        "!pip install pycaret\n",
        "\n",
        "from pycaret.classification import *\n",
        "import matplotlib.pyplot as plt\n",
        "from sklearn.metrics import roc_curve, roc_auc_score\n",
        "import pandas as pd\n",
        "# Carregar dados de exemplo\n",
        "from pycaret.datasets import get_data\n",
        "data = '/content/diabetes.csv'\n",
        "\n",
        "# Configurar o ambiente do PyCaret\n",
        "clf = setup(data= df, target='Outcome')\n",
        "# Treinar e avaliar vários modelos\n",
        "best_models = compare_models(n_select=2)\n",
        "\n",
        "# Dados de treino e teste\n",
        "X_train = get_config('X_train')\n",
        "y_train = get_config('y_train')\n",
        "X_test = get_config('X_test')\n",
        "y_test = get_config('y_test')\n",
        "\n",
        "# Plotar as curvas ROC para os três melhores modelos\n",
        "for i, model in enumerate(best_models):\n",
        "    model_name = str(model).split('(')[0]\n",
        "    model.fit(X_train, y_train)\n",
        "    y_pred = model.predict_proba(X_test)[:, 1]\n",
        "    fpr, tpr, thresholds = roc_curve(y_test, y_pred)\n",
        "    auc = roc_auc_score(y_test, y_pred)\n",
        "\n",
        "    plt.figure(figsize=(6, 6))\n",
        "    plt.plot(fpr, tpr, label=f'{model_name} (AUC = {auc:.2f})')\n",
        "    plt.plot([0, 1], [0, 1], 'k--', label=\"Random\")\n",
        "    plt.xlabel('False Positive Rate')\n",
        "    plt.ylabel('True Positive Rate')\n",
        "    plt.title(f'ROC Curve - {model_name}')\n",
        "    plt.legend()\n",
        "    plt.show()\n"
      ]
    }
  ]
}